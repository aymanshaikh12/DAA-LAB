{
 "cells": [
  {
   "cell_type": "code",
   "execution_count": 1,
   "id": "42bb2dc7",
   "metadata": {},
   "outputs": [
    {
     "name": "stdout",
     "output_type": "stream",
     "text": [
      "Sorted Matrix:\n",
      "[1, 1, 2]\n",
      "[3, 4, 5]\n",
      "[5, 6, 9]\n",
      "\n",
      "Matrix with Diagonals Replaced:\n",
      "[0, 1, 0]\n",
      "[3, 0, 5]\n",
      "[0, 6, 0]\n"
     ]
    }
   ],
   "source": [
    "def bubble_sort(matrix):\n",
    "    rows = len(matrix)\n",
    "    cols = len(matrix[0])\n",
    "\n",
    "   \n",
    "    flat_matrix = [matrix[i][j] for i in range(rows) for j in range(cols)]\n",
    "\n",
    "    \n",
    "    n = rows * cols\n",
    "    for i in range(n):\n",
    "        for j in range(0, n-i-1):\n",
    "            if flat_matrix[j] > flat_matrix[j+1]:\n",
    "                flat_matrix[j], flat_matrix[j+1] = flat_matrix[j+1], flat_matrix[j]\n",
    "\n",
    "    \n",
    "    sorted_matrix = [flat_matrix[i:i+cols] for i in range(0, n, cols)]\n",
    "\n",
    "    return sorted_matrix\n",
    "\n",
    "def replace_diagonals_with_zeros(matrix):\n",
    "    rows = len(matrix)\n",
    "    cols = len(matrix[0])\n",
    "\n",
    "    \n",
    "    for i in range(min(rows, cols)):\n",
    "        matrix[i][i] = 0\n",
    "\n",
    "    \n",
    "    for i in range(min(rows, cols)):\n",
    "        matrix[i][cols - i - 1] = 0\n",
    "\n",
    "\n",
    "matrix = [\n",
    "    [3, 1, 4],\n",
    "    [1, 5, 9],\n",
    "    [2, 6, 5]\n",
    "]\n",
    "\n",
    "\n",
    "sorted_matrix = bubble_sort(matrix)\n",
    "print(\"Sorted Matrix:\")\n",
    "for row in sorted_matrix:\n",
    "    print(row)\n",
    "\n",
    "\n",
    "replace_diagonals_with_zeros(sorted_matrix)\n",
    "print(\"\\nMatrix with Diagonals Replaced:\")\n",
    "for row in sorted_matrix:\n",
    "    print(row)\n"
   ]
  },
  {
   "cell_type": "code",
   "execution_count": 2,
   "id": "00d49847",
   "metadata": {},
   "outputs": [
    {
     "name": "stdout",
     "output_type": "stream",
     "text": [
      "5 * -3 = -15\n"
     ]
    }
   ],
   "source": [
    "def multiply(x, y):\n",
    "    result = 0\n",
    "    is_negative = (x < 0) ^ (y < 0)  # Check if the result should be negative\n",
    "\n",
    "    x, y = abs(x), abs(y)\n",
    "\n",
    "    while y > 0:\n",
    "        result += x\n",
    "        y -= 1\n",
    "\n",
    "    return -result if is_negative else result\n",
    "\n",
    "\n",
    "num1 = 5\n",
    "num2 = -3\n",
    "result = multiply(num1, num2)\n",
    "print(f\"{num1} * {num2} = {result}\")\n"
   ]
  },
  {
   "cell_type": "code",
   "execution_count": null,
   "id": "f392f498",
   "metadata": {},
   "outputs": [],
   "source": []
  }
 ],
 "metadata": {
  "kernelspec": {
   "display_name": "Python 3 (ipykernel)",
   "language": "python",
   "name": "python3"
  },
  "language_info": {
   "codemirror_mode": {
    "name": "ipython",
    "version": 3
   },
   "file_extension": ".py",
   "mimetype": "text/x-python",
   "name": "python",
   "nbconvert_exporter": "python",
   "pygments_lexer": "ipython3",
   "version": "3.9.12"
  }
 },
 "nbformat": 4,
 "nbformat_minor": 5
}
