{
 "cells": [
  {
   "cell_type": "code",
   "execution_count": 2,
   "id": "61ae9e22",
   "metadata": {},
   "outputs": [
    {
     "name": "stdout",
     "output_type": "stream",
     "text": [
      "Original Matrix:\n",
      "[1, 2, 3]\n",
      "[4, 5, 6]\n",
      "[7, 8, 9]\n",
      "\n",
      "Matrix after Diagonal Interchange:\n",
      "[3, 2, 1]\n",
      "[4, 5, 6]\n",
      "[9, 8, 7]\n"
     ]
    }
   ],
   "source": [
    "def interchange_diagonals(matrix):\n",
    "    n = len(matrix)\n",
    "\n",
    "    for i in range(n):\n",
    "        \n",
    "        matrix[i][i], matrix[i][n - i - 1] = matrix[i][n - i - 1], matrix[i][i]\n",
    "\n",
    "\n",
    "matrix = [\n",
    "    [1, 2, 3],\n",
    "    [4, 5, 6],\n",
    "    [7, 8, 9]\n",
    "]\n",
    "\n",
    "print(\"Original Matrix:\")\n",
    "for row in matrix:\n",
    "    print(row)\n",
    "\n",
    "interchange_diagonals(matrix)\n",
    "\n",
    "print(\"\\nMatrix after Diagonal Interchange:\")\n",
    "for row in matrix:\n",
    "    print(row)\n"
   ]
  },
  {
   "cell_type": "code",
   "execution_count": 3,
   "id": "74088fa0",
   "metadata": {},
   "outputs": [
    {
     "name": "stdout",
     "output_type": "stream",
     "text": [
      "Indices of 2 in the array: [1, 4, 6]\n"
     ]
    }
   ],
   "source": [
    "def find_indices(arr, target):\n",
    "    indices = []\n",
    "    for i in range(len(arr)):\n",
    "        if arr[i] == target:\n",
    "            indices.append(i)\n",
    "    return indices\n",
    "\n",
    "\n",
    "input_array = [1, 2, 3, 4, 2, 5, 2, 6]\n",
    "target_number = 2\n",
    "result = find_indices(input_array, target_number)\n",
    "print(f\"Indices of {target_number} in the array: {result}\")\n"
   ]
  },
  {
   "cell_type": "code",
   "execution_count": null,
   "id": "fe637c3f",
   "metadata": {},
   "outputs": [],
   "source": []
  }
 ],
 "metadata": {
  "kernelspec": {
   "display_name": "Python 3 (ipykernel)",
   "language": "python",
   "name": "python3"
  },
  "language_info": {
   "codemirror_mode": {
    "name": "ipython",
    "version": 3
   },
   "file_extension": ".py",
   "mimetype": "text/x-python",
   "name": "python",
   "nbconvert_exporter": "python",
   "pygments_lexer": "ipython3",
   "version": "3.9.12"
  }
 },
 "nbformat": 4,
 "nbformat_minor": 5
}
