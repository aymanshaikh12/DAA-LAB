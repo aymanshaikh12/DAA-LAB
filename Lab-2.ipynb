{
 "cells": [
  {
   "cell_type": "code",
   "execution_count": 1,
   "id": "668cea5a",
   "metadata": {},
   "outputs": [
    {
     "name": "stdout",
     "output_type": "stream",
     "text": [
      "[[1, 5, 9], [1, 6, 8], [2, 4, 9], [2, 5, 8], [2, 6, 7], [3, 4, 8], [3, 5, 7], [4, 5, 6]]\n"
     ]
    }
   ],
   "source": [
    "def find_triplets(arr, target_sum):\n",
    "    arr.sort()\n",
    "    triplets = []\n",
    "\n",
    "    for i in range(len(arr) - 2):\n",
    "        left, right = i + 1, len(arr) - 1\n",
    "\n",
    "        while left < right:\n",
    "            current_sum = arr[i] + arr[left] + arr[right]\n",
    "\n",
    "            if current_sum == target_sum:\n",
    "                triplets.append([arr[i], arr[left], arr[right]])\n",
    "                left += 1\n",
    "                right -= 1\n",
    "            elif current_sum < target_sum:\n",
    "                left += 1\n",
    "            else:\n",
    "                right -= 1\n",
    "\n",
    "    return triplets\n",
    "\n",
    "\n",
    "input_array = [1, 2, 3, 4, 5, 6, 7, 8, 9]\n",
    "target_sum = 15\n",
    "result = find_triplets(input_array, target_sum)\n",
    "print(result)\n"
   ]
  },
  {
   "cell_type": "code",
   "execution_count": 2,
   "id": "6f4176ea",
   "metadata": {},
   "outputs": [
    {
     "name": "stdout",
     "output_type": "stream",
     "text": [
      "[0, 0, 0, 1, 1, 1, 2, 2, 2]\n"
     ]
    }
   ],
   "source": [
    "def counting_sort(arr):\n",
    "    \n",
    "    max_value = max(arr)\n",
    "\n",
    "    \n",
    "    count = [0] * (max_value + 1)\n",
    "\n",
    "    \n",
    "    for num in arr:\n",
    "        count[num] += 1\n",
    "\n",
    "    \n",
    "    sorted_array = []\n",
    "    for i in range(len(count)):\n",
    "        sorted_array.extend([i] * count[i])\n",
    "\n",
    "    return sorted_array\n",
    "\n",
    "\n",
    "input_array = [0, 0, 1, 2, 0, 1, 2, 2, 1]\n",
    "result = counting_sort(input_array)\n",
    "print(result)\n"
   ]
  },
  {
   "cell_type": "code",
   "execution_count": null,
   "id": "3642531a",
   "metadata": {},
   "outputs": [],
   "source": []
  }
 ],
 "metadata": {
  "kernelspec": {
   "display_name": "Python 3 (ipykernel)",
   "language": "python",
   "name": "python3"
  },
  "language_info": {
   "codemirror_mode": {
    "name": "ipython",
    "version": 3
   },
   "file_extension": ".py",
   "mimetype": "text/x-python",
   "name": "python",
   "nbconvert_exporter": "python",
   "pygments_lexer": "ipython3",
   "version": "3.9.12"
  }
 },
 "nbformat": 4,
 "nbformat_minor": 5
}
