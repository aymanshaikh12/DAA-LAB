{
 "cells": [
  {
   "cell_type": "code",
   "execution_count": 1,
   "id": "68047313",
   "metadata": {},
   "outputs": [
    {
     "name": "stdout",
     "output_type": "stream",
     "text": [
      "Node with value 3 found in the BST.\n"
     ]
    }
   ],
   "source": [
    "class TreeNode:\n",
    "    def __init__(self, key):\n",
    "        self.key = key\n",
    "        self.left = None\n",
    "        self.right = None\n",
    "\n",
    "def search_bst(root, target):\n",
    "    \n",
    "    if root is None or root.key == target:\n",
    "        return root\n",
    "\n",
    "    if target < root.key:\n",
    "        return search_bst(root.left, target)\n",
    "    \n",
    "    else:\n",
    "        return search_bst(root.right, target)\n",
    "\n",
    "\n",
    "root = TreeNode(4)\n",
    "root.left = TreeNode(2)\n",
    "root.right = TreeNode(7)\n",
    "root.left.left = TreeNode(1)\n",
    "root.left.right = TreeNode(3)\n",
    "root.right.left = TreeNode(6)\n",
    "\n",
    "target_value = 3\n",
    "result_node = search_bst(root, target_value)\n",
    "\n",
    "if result_node:\n",
    "    print(f\"Node with value {target_value} found in the BST.\")\n",
    "else:\n",
    "    print(f\"Node with value {target_value} not found in the BST.\")\n"
   ]
  },
  {
   "cell_type": "code",
   "execution_count": 2,
   "id": "38ec9b3b",
   "metadata": {},
   "outputs": [
    {
     "name": "stdout",
     "output_type": "stream",
     "text": [
      "Sum of leaf nodes in the tree: 14\n"
     ]
    }
   ],
   "source": [
    "class TreeNode:\n",
    "    def __init__(self, value):\n",
    "        self.value = value\n",
    "        self.left = None\n",
    "        self.right = None\n",
    "\n",
    "def leaf_sum(root):\n",
    "    if root is None:\n",
    "        return 0\n",
    "\n",
    "   \n",
    "    if root.left is None and root.right is None:\n",
    "        return root.value\n",
    "    else:\n",
    "    \n",
    "        return leaf_sum(root.left) + leaf_sum(root.right)\n",
    "\n",
    "root = TreeNode(5)\n",
    "root.left = TreeNode(3)\n",
    "root.right = TreeNode(8)\n",
    "root.left.left = TreeNode(2)\n",
    "root.left.right = TreeNode(4)\n",
    "\n",
    "result = leaf_sum(root)\n",
    "print(f\"Sum of leaf nodes in the tree: {result}\")\n"
   ]
  },
  {
   "cell_type": "code",
   "execution_count": 3,
   "id": "e10dd2b9",
   "metadata": {},
   "outputs": [
    {
     "name": "stdout",
     "output_type": "stream",
     "text": [
      "Zig-Zag Traversal:\n",
      "[1]\n",
      "[2, 3]\n",
      "[4, 5, 6, 7]\n"
     ]
    }
   ],
   "source": [
    "from collections import deque\n",
    "\n",
    "class TreeNode:\n",
    "    def __init__(self, value):\n",
    "        self.value = value\n",
    "        self.left = None\n",
    "        self.right = None\n",
    "\n",
    "def zigzag_traversal(root):\n",
    "    if not root:\n",
    "        return []\n",
    "\n",
    "    result = []\n",
    "    queue = deque([root])\n",
    "    left_to_right = True  \n",
    "\n",
    "    while queue:\n",
    "        level_size = len(queue)\n",
    "        level_values = deque()\n",
    "\n",
    "        for _ in range(level_size):\n",
    "            if left_to_right:\n",
    "                node = queue.popleft()\n",
    "                level_values.append(node.value)\n",
    "                if node.left:\n",
    "                    queue.append(node.left)\n",
    "                if node.right:\n",
    "                    queue.append(node.right)\n",
    "            else:\n",
    "                node = queue.pop()\n",
    "                level_values.appendleft(node.value)\n",
    "                if node.right:\n",
    "                    queue.appendleft(node.right)\n",
    "                if node.left:\n",
    "                    queue.appendleft(node.left)\n",
    "\n",
    "        result.append(list(level_values))\n",
    "        left_to_right = not left_to_right\n",
    "\n",
    "    return result\n",
    "\n",
    "root = TreeNode(1)\n",
    "root.left = TreeNode(2)\n",
    "root.right = TreeNode(3)\n",
    "root.left.left = TreeNode(4)\n",
    "root.left.right = TreeNode(5)\n",
    "root.right.left = TreeNode(6)\n",
    "root.right.right = TreeNode(7)\n",
    "\n",
    "result = zigzag_traversal(root)\n",
    "print(\"Zig-Zag Traversal:\")\n",
    "for level in result:\n",
    "    print(level)\n"
   ]
  },
  {
   "cell_type": "code",
   "execution_count": null,
   "id": "1dddd50e",
   "metadata": {},
   "outputs": [],
   "source": []
  }
 ],
 "metadata": {
  "kernelspec": {
   "display_name": "Python 3 (ipykernel)",
   "language": "python",
   "name": "python3"
  },
  "language_info": {
   "codemirror_mode": {
    "name": "ipython",
    "version": 3
   },
   "file_extension": ".py",
   "mimetype": "text/x-python",
   "name": "python",
   "nbconvert_exporter": "python",
   "pygments_lexer": "ipython3",
   "version": "3.9.12"
  }
 },
 "nbformat": 4,
 "nbformat_minor": 5
}
