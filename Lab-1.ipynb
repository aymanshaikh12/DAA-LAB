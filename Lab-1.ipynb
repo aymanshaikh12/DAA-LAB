{
 "cells": [
  {
   "cell_type": "code",
   "execution_count": 1,
   "id": "701bc872",
   "metadata": {},
   "outputs": [
    {
     "name": "stdout",
     "output_type": "stream",
     "text": [
      "Leaders in the array: [17, 5, 2]\n"
     ]
    }
   ],
   "source": [
    "def find_leaders(arr):\n",
    "    n = len(arr)\n",
    "    leaders = []\n",
    "    \n",
    " \n",
    "    max_right = arr[n - 1]\n",
    "    leaders.append(max_right)\n",
    "    \n",
    " \n",
    "    for i in range(n - 2, -1, -1):\n",
    "        if arr[i] >= max_right:\n",
    "            # Found a leader\n",
    "            leaders.append(arr[i])\n",
    "            max_right = arr[i]\n",
    "    \n",
    "    \n",
    "    leaders.reverse()\n",
    "    \n",
    "    return leaders\n",
    "\n",
    "arr = [16, 17, 4, 3, 5, 2]\n",
    "result = find_leaders(arr)\n",
    "print(\"Leaders in the array:\", result)\n"
   ]
  },
  {
   "cell_type": "code",
   "execution_count": 2,
   "id": "1a0dec2e",
   "metadata": {},
   "outputs": [
    {
     "name": "stdout",
     "output_type": "stream",
     "text": [
      "[1, 9, 1, 6, 2, 5, 3, 5, 3, 5, 4]\n"
     ]
    }
   ],
   "source": [
    "def alternate_sort(arr):\n",
    "    \n",
    "    arr.sort()\n",
    "\n",
    "    \n",
    "    output = []\n",
    "\n",
    "    \n",
    "        if arr:\n",
    "            output.append(arr.pop(0))  # Append the smallest number\n",
    "        if arr:\n",
    "            output.append(arr.pop())   # Append the largest number\n",
    "\n",
    "    return output\n",
    "\n",
    "\n",
    "input_array = [3, 1, 4, 1, 5, 9, 2, 6, 5, 3, 5]\n",
    "result = alternate_sort(input_array)\n",
    "print(result)\n"
   ]
  },
  {
   "cell_type": "code",
   "execution_count": null,
   "id": "8f8cfaee",
   "metadata": {},
   "outputs": [],
   "source": []
  }
 ],
 "metadata": {
  "kernelspec": {
   "display_name": "Python 3 (ipykernel)",
   "language": "python",
   "name": "python3"
  },
  "language_info": {
   "codemirror_mode": {
    "name": "ipython",
    "version": 3
   },
   "file_extension": ".py",
   "mimetype": "text/x-python",
   "name": "python",
   "nbconvert_exporter": "python",
   "pygments_lexer": "ipython3",
   "version": "3.9.12"
  }
 },
 "nbformat": 4,
 "nbformat_minor": 5
}
