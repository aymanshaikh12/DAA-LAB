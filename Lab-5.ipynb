{
 "cells": [
  {
   "cell_type": "code",
   "execution_count": 1,
   "id": "7c4ac5dd",
   "metadata": {},
   "outputs": [
    {
     "name": "stdout",
     "output_type": "stream",
     "text": [
      "Row with the most 1s: 0\n"
     ]
    }
   ],
   "source": [
    "def find_row_with_most_ones(matrix):\n",
    "    max_ones_count = 0\n",
    "    row_with_most_ones = -1\n",
    "\n",
    "    for i in range(len(matrix)):\n",
    "        ones_count = matrix[i].count(1)\n",
    "\n",
    "        if ones_count > max_ones_count:\n",
    "            max_ones_count = ones_count\n",
    "            row_with_most_ones = i\n",
    "\n",
    "    return row_with_most_ones\n",
    "\n",
    "\n",
    "binary_matrix = [\n",
    "    [0, 1, 1, 1],\n",
    "    [1, 1, 1, 0],\n",
    "    [0, 0, 1, 0],\n",
    "    [1, 0, 0, 0]\n",
    "]\n",
    "\n",
    "result = find_row_with_most_ones(binary_matrix)\n",
    "print(f\"Row with the most 1s: {result}\")\n"
   ]
  },
  {
   "cell_type": "code",
   "execution_count": 2,
   "id": "288cdb92",
   "metadata": {},
   "outputs": [
    {
     "name": "stdout",
     "output_type": "stream",
     "text": [
      "Sum of middle row: 15\n",
      "Sum of middle column: 15\n"
     ]
    }
   ],
   "source": [
    "def middle_row_and_column_sum(matrix):\n",
    "    rows = len(matrix)\n",
    "    cols = len(matrix[0])\n",
    "\n",
    "   \n",
    "    if rows % 2 != 0 and cols % 2 != 0:\n",
    "        middle_row = rows // 2\n",
    "        middle_col = cols // 2\n",
    "\n",
    "        \n",
    "        middle_row_sum = sum(matrix[middle_row])\n",
    "\n",
    "        \n",
    "        middle_col_sum = sum(matrix[i][middle_col] for i in range(rows))\n",
    "\n",
    "        return middle_row_sum, middle_col_sum\n",
    "    else:\n",
    "        return \"The matrix should have an odd number of rows and columns for a defined middle.\"\n",
    "\n",
    "\n",
    "matrix = [\n",
    "    [1, 2, 3],\n",
    "    [4, 5, 6],\n",
    "    [7, 8, 9]\n",
    "]\n",
    "\n",
    "result = middle_row_and_column_sum(matrix)\n",
    "print(f\"Sum of middle row: {result[0]}\")\n",
    "print(f\"Sum of middle column: {result[1]}\")\n"
   ]
  },
  {
   "cell_type": "code",
   "execution_count": null,
   "id": "0952d3c8",
   "metadata": {},
   "outputs": [],
   "source": []
  }
 ],
 "metadata": {
  "kernelspec": {
   "display_name": "Python 3 (ipykernel)",
   "language": "python",
   "name": "python3"
  },
  "language_info": {
   "codemirror_mode": {
    "name": "ipython",
    "version": 3
   },
   "file_extension": ".py",
   "mimetype": "text/x-python",
   "name": "python",
   "nbconvert_exporter": "python",
   "pygments_lexer": "ipython3",
   "version": "3.9.12"
  }
 },
 "nbformat": 4,
 "nbformat_minor": 5
}
